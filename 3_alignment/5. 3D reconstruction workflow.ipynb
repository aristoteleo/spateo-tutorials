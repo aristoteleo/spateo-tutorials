{
 "cells": [
  {
   "cell_type": "markdown",
   "metadata": {},
   "source": [
    "# 3D Reconstruction workflow\n",
    "\n",
    "<img src=\"./images/tutorial_3D_reconstruction_workflow.svg\" width=\"1200\">\n",
    "\n",
    "Typical Spateo's 3D reconstruction workflow involves the following steps: loading data, preprocessing, pairwise rigid alignment, check the results, multi-slice refinement, nonrigid alignment, mesh correction, and visualization. Among these, multi-slice refinement, nonrigid alignment, and mesh correction are optional steps and may not be necessary in some cases. If you want to achieve better reconstruction results, you can try these steps. Once completed, the reconstructed model can be applied to downstream analyses. \n",
    "\n",
    "We provide several tutorials to help users learn these steps from real data examples：\n",
    "\n",
    "- [x] [3D reconstruction on Drosophila data with pairwise alignment (pairwise rigid alignment)](./5.1%203D%20reconstruction%20on%20Drosophila%20data%20with%20pairwise%20alignment.ipynb)\n",
    "\n",
    "Comming soon:\n",
    "\n",
    "- [ ] 3D reconstruction on Drosophila bin 50 data with pairwise alignment\n",
    "- [ ] 3D reconstruction on mouse embryo E9.5 data with pairwise alignment (nonrigid alignment)\n",
    "- [ ] 3D reconstruction on mouse embryo E11.5 data with pairwise alignment\n",
    "- [ ] 3D reconstruction on adult mouse brain data with pairwise alignment\n",
    "- [ ] Global refinement by considering multiple slices (multi-slice refinement)\n",
    "- [ ] Incorporating mesh information to improve 3D reconstruction (mesh correction)"
   ]
  }
 ],
 "metadata": {
  "kernelspec": {
   "display_name": "Python 3 (ipykernel)",
   "language": "python",
   "name": "python3"
  },
  "language_info": {
   "codemirror_mode": {
    "name": "ipython",
    "version": 3
   },
   "file_extension": ".py",
   "mimetype": "text/x-python",
   "name": "python",
   "nbconvert_exporter": "python",
   "pygments_lexer": "ipython3",
   "version": "3.11.7"
  }
 },
 "nbformat": 4,
 "nbformat_minor": 4
}
